{
  "nbformat": 4,
  "nbformat_minor": 0,
  "metadata": {
    "colab": {
      "name": "Projeto Final - Aprendizado não supervisionado - K_Means.ipynb",
      "provenance": [],
      "collapsed_sections": []
    },
    "kernelspec": {
      "name": "python3",
      "display_name": "Python 3"
    }
  },
  "cells": [
    {
      "cell_type": "markdown",
      "metadata": {
        "id": "32IR8O1MzJIf",
        "colab_type": "text"
      },
      "source": [
        "Para este projeto, iremos utilizar o dataset de COVID-19 dos casos nos Estados Unidos no períodode 21 de janeiro até 09 de abril de 2020 processado.\n"
      ]
    },
    {
      "cell_type": "code",
      "metadata": {
        "id": "UgH9ONcfzwJF",
        "colab_type": "code",
        "outputId": "e7691c06-e1b4-4742-aeb8-b075827b900f",
        "colab": {
          "base_uri": "https://localhost:8080/",
          "height": 459
        }
      },
      "source": [
        "import pandas as pd\n",
        "\n",
        "# Leitura do arquivo:\n",
        "pontos = pd.read_csv('newEpl.csv', sep = \",\", names=[\"Time\", \"Gols_Marcados\", \"Vitorias\"]);\n",
        "#arquivo = arquivo.drop([0])\n",
        "print(arquivo)\n",
        "\n",
        "# 1. Definir a quantidade K de clusters que queremos calcular\n",
        "k = 3;\n",
        "\n",
        "# 2. Sortear as coordenadas iniciais para cada um dos K centroides\n",
        "cent1 = [ int(pontos.iloc[[5]][\"Gols_Marcados\"]), int(pontos.iloc[[5]][\"Vitorias\"]) ];\n",
        "cent2 = [ int(pontos.iloc[[0]][\"Gols_Marcados\"]), int(pontos.iloc[[0]][\"Vitorias\"]) ];\n",
        "cent3 = [ int(pontos.iloc[[13]][\"Gols_Marcados\"]), int(pontos.iloc[[13]][\"Vitorias\"]) ];\n",
        "\n",
        "#print('\\n\\n');\n",
        "#print(cent1);\n",
        "#print(cent2);\n",
        "#print(cent3);\n",
        "\n",
        "print('\\n\\n');\n",
        "print(cent1[0]);\n",
        "print(cent1[1]);\n",
        "\n"
      ],
      "execution_count": 106,
      "outputs": [
        {
          "output_type": "stream",
          "text": [
            "                Time  Gols_Marcados  Vitorias\n",
            "0            Arsenal             40         9\n",
            "1        Aston Villa             34         7\n",
            "2        Bournemouth             29         7\n",
            "3           Brighton             32         6\n",
            "4            Burnley             34        11\n",
            "5            Chelsea             51        14\n",
            "6     Crystal Palace             26        10\n",
            "7            Everton             37        10\n",
            "8          Leicester             58        16\n",
            "9          Liverpool             66        27\n",
            "10          Man City             68        18\n",
            "11           Man Utd             44        12\n",
            "12  Newcastle United             25         9\n",
            "13           Norwich             25         5\n",
            "14  Sheffield United             30        11\n",
            "15       Southampton             35        10\n",
            "16         Tottenham             47        11\n",
            "17           Watford             27         6\n",
            "18          West Ham             35         7\n",
            "19            Wolves             41        10\n",
            "\n",
            "\n",
            "\n",
            "51\n",
            "14\n"
          ],
          "name": "stdout"
        }
      ]
    },
    {
      "cell_type": "markdown",
      "metadata": {
        "id": "qcyg1-MS7rMm",
        "colab_type": "text"
      },
      "source": [
        "Tarefa: implementar a função “fit_k_means(pontos, parada, max_iter)”, com K fixo e igual a 3. Retorne os centroids finais.\n",
        "\n",
        "pontos: conjunto de pontos 2D (casos x mortes) que serão clusterizados\n",
        "\n",
        "parada: valor da variação dos clusters que indicará o fim do treinamento, i.e., se distancia(cluster_antigo, cluster_novo) < parada então termine o treinamento.\n",
        "\n",
        "max_iter: quantidade máxima de vezes que o algoritmo deve ser repetido caso “parada” não seja alcançada.\n",
        "\n",
        "Desafio: adicionar parâmetro com a quantidade de centroides K variável 3"
      ]
    },
    {
      "cell_type": "markdown",
      "metadata": {
        "id": "LtUBVUGm5by1",
        "colab_type": "text"
      },
      "source": [
        "Tarefa: implementar a função “fit_k_means(pontos, parada, max_iter)”, com K fixo e igual a 3. Retorne os centroids finais.\n"
      ]
    },
    {
      "cell_type": "code",
      "metadata": {
        "id": "l4Uo5sTs37NG",
        "colab_type": "code",
        "colab": {}
      },
      "source": [
        "import math\n",
        "\n",
        "\n",
        "#\n",
        "def distancia(cluster_antigo, cluster_novo):\n",
        "  x = float(cluster_antigo[0]) - cluster_novo[0];\n",
        "  x = x * x;\n",
        "  y = float(cluster_antigo[1]) - cluster_novo[1];\n",
        "  y = y * y;\n",
        "\n",
        "  d = math.sqrt(x + y)\n",
        "  return d;\n",
        "#\n",
        "\n",
        "cent1Anterior = None;\n",
        "cent2Anterior = None;\n",
        "cent3Anterior = None;\n",
        "\n",
        "cluster1 = [];\n",
        "cluster2 = [];\n",
        "cluster3 = [];\n",
        "\n",
        "def fit_k_means(pontos, parada, max_iter):\n",
        "  \n",
        "  # Para utilizar as variáveis globais declaradas encima do método\n",
        "  global cent1, cent2, cent3, cent1Anterior, cent2Anterior, cent3Anterior, cluster1, cluster2, cluster3;\n",
        "\n",
        "  #max_iter: quantidade máxima de vezes que o algoritmo deve ser repetido caso “parada” não seja alcançada.\n",
        "  if(max_iter == 0):\n",
        "    print('\\nFIM 1!\\n\\n\\n');\n",
        "    return cent1, cent2, cent3;\n",
        "\n",
        "  cent1Anterior = cent1;\n",
        "  cent2Anterior = cent2;\n",
        "  cent3Anterior = cent3;\n",
        "\n",
        "  cluster1 = [];\n",
        "  cluster2 = [];\n",
        "  cluster3 = [];  \n",
        "\n",
        "  # 3. Calcular a distância de cada ponto para cada centroide\n",
        "  distancia1 = 0;\n",
        "  distancia2 = 0;\n",
        "  distancia3 = 0;\n",
        "\n",
        "\n",
        "  for i in range(0, len(pontos)):\n",
        "    distancia1 = distancia([float(pontos.iloc[[i]][\"Gols_Marcados\"]), float(pontos.iloc[[i]][\"Vitorias\"])], cent1)\n",
        "    distancia2 = distancia([float(pontos.iloc[[i]][\"Gols_Marcados\"]), float(pontos.iloc[[i]][\"Vitorias\"])], cent2)\n",
        "    distancia3 = distancia([float(pontos.iloc[[i]][\"Gols_Marcados\"]), float(pontos.iloc[[i]][\"Vitorias\"])], cent3)\n",
        "\n",
        "    # 4. Associar cada ponto ao centroide mais próximo\n",
        "    if(distancia1 < distancia2 and distancia1 < distancia3 ):\n",
        "      cluster1.append([pontos.iloc[i][\"Time\"], pontos.iloc[i][\"Gols_Marcados\"], pontos.iloc[i][\"Vitorias\"]]);\n",
        "                                \n",
        "    if(distancia2 < distancia1 and distancia2 < distancia3):\n",
        "      cluster2.append([pontos.iloc[i][\"Time\"], pontos.iloc[i][\"Gols_Marcados\"], pontos.iloc[i][\"Vitorias\"]]);\n",
        "    \n",
        "    if(distancia3 < distancia1 and distancia3 < distancia2):\n",
        "      cluster3.append([pontos.iloc[i][\"Time\"], pontos.iloc[i][\"Gols_Marcados\"], pontos.iloc[i][\"Vitorias\"]]);\n",
        "    \n",
        "  #print(cluster1);\n",
        "  #print(len(cluster1));\n",
        "  #print('\\n');\n",
        "  #print(cluster2);\n",
        "  #print(len(cluster2));\n",
        "  #print('\\n');\n",
        "  #print(cluster3);\n",
        "  #print(len(cluster3));\n",
        "  #print('\\n');\n",
        "\n",
        "  valor1 = 0;\n",
        "  valor2 = 0;\n",
        "\n",
        "  # 5. Atualizar as coordenadas de cada centroide. As novas coordenadas de cada centroide são calculadas \n",
        "  # como sendo a média das coordenadas de todos os pontos associados aquele centroide\n",
        "  for i in range(0, len(cluster1)):\n",
        "    valor1 += float(cluster1[i][1]);\n",
        "    valor2 += float(cluster1[i][2]);\n",
        "\n",
        "  cent1 = [valor1/len(cluster1), valor2/len(cluster1)]\n",
        "\n",
        "\n",
        "  valor1 = 0;\n",
        "  valor2 = 0;\n",
        "  for i in range(0, len(cluster2)):\n",
        "    valor1 += float(cluster2[i][1]);\n",
        "    valor2 += float(cluster2[i][2]);\n",
        "\n",
        "\n",
        "  cent2 = [valor1/len(cluster2), valor2/len(cluster2)]\n",
        "\n",
        "  valor1 = 0;\n",
        "  valor2 = 0;\n",
        "  for i in range(0, len(cluster3)):\n",
        "    valor1 += float(cluster3[i][1]);\n",
        "    valor2 += float(cluster3[i][2]);\n",
        "\n",
        "\n",
        "  cent3 = [valor1/len(cluster3), valor2/len(cluster3)]\n",
        "  \n",
        "  # se distancia(cluster_antigo, cluster_novo) < parada então termine o treinamento.\n",
        "  if(distancia(cent1Anterior, cent1) <= parada and distancia(cent2Anterior, cent2) <= parada and \n",
        "    distancia(cent3Anterior, cent3) <= parada):\n",
        "    \n",
        "    print('\\nFIM 2!\\n\\n\\n');\n",
        "    return cent1, cent2, cent3;\n",
        "  ####\n",
        "\n",
        "  #print('Fim da iteração ' + str((max_iter * -1) +6));\n",
        "  #print('\\n\\n\\n');\n",
        "\n",
        "  #6. Executar os passos de 3. a 5. até que os centroides não alterem mais suas posições \n",
        "  #ou que elas variem muito pouco\n",
        "  cent1, cent2, cent3 = fit_k_means(pontos, 0.2, max_iter-1);\n",
        "  #\n",
        "\n",
        "  #7. Retornar as coordenadas dos centroides com o resultado do algoritmo.\n",
        "  return cent1, cent2, cent3;\n"
      ],
      "execution_count": 0,
      "outputs": []
    },
    {
      "cell_type": "code",
      "metadata": {
        "id": "go_bsAS8Jr02",
        "colab_type": "code",
        "outputId": "5ad15901-8d4f-4dae-96bc-d995f82b8f96",
        "colab": {
          "base_uri": "https://localhost:8080/",
          "height": 272
        }
      },
      "source": [
        "print('\\nINÍCIO DO TREINAMENTO\\n\\n');\n",
        "\n",
        "\n",
        "print(fit_k_means(pontos, 0.2, 50));\n",
        "\n",
        "\n",
        "print('\\nFIM DO TREINAMENTO!\\n\\n\\n');"
      ],
      "execution_count": 108,
      "outputs": [
        {
          "output_type": "stream",
          "text": [
            "\n",
            "INÍCIO DO TREINAMENTO\n",
            "\n",
            "\n",
            "\n",
            "FIM 2!\n",
            "\n",
            "\n",
            "\n",
            "([60.75, 18.75], [38.55555555555556, 9.666666666666666], [27.714285714285715, 7.714285714285714])\n",
            "\n",
            "FIM DO TREINAMENTO!\n",
            "\n",
            "\n",
            "\n"
          ],
          "name": "stdout"
        }
      ]
    },
    {
      "cell_type": "code",
      "metadata": {
        "id": "4fadH5O6hJFQ",
        "colab_type": "code",
        "outputId": "e29640b2-79bf-4876-aa4a-bc90b30e07b1",
        "colab": {
          "base_uri": "https://localhost:8080/",
          "height": 88
        }
      },
      "source": [
        "print(cluster1)\n",
        "print(cluster2)\n",
        "print(cluster3)"
      ],
      "execution_count": 109,
      "outputs": [
        {
          "output_type": "stream",
          "text": [
            "[['Chelsea', 51, 14], ['Leicester', 58, 16], ['Liverpool', 66, 27], ['Man City', 68, 18]]\n",
            "[['Arsenal', 40, 9], ['Aston Villa', 34, 7], ['Burnley', 34, 11], ['Everton', 37, 10], ['Man Utd', 44, 12], ['Southampton', 35, 10], ['Tottenham', 47, 11], ['West Ham', 35, 7], ['Wolves', 41, 10]]\n",
            "[['Bournemouth', 29, 7], ['Brighton', 32, 6], ['Crystal Palace', 26, 10], ['Newcastle United', 25, 9], ['Norwich', 25, 5], ['Sheffield United', 30, 11], ['Watford', 27, 6]]\n"
          ],
          "name": "stdout"
        }
      ]
    },
    {
      "cell_type": "markdown",
      "metadata": {
        "id": "7g09nY57-Cbf",
        "colab_type": "text"
      },
      "source": [
        "O seu relatório será o notebook exportado para um arquivo HTML e deve conter:\n",
        "\n",
        "- Um scatter plot mostrando os centroides(com marcador x) e seus respectivos pontos(cada cluster deve estar em uma cor distinta)\n",
        "\n",
        "- Para cada cluster, também devem ser exibidas as distâncias médias entre os pontos e seu respectivo centroide final\n",
        "\n",
        "- Discorra sobre cada cluster: o que eles indicam?\n",
        "\n",
        "- Desafio: implementar uma visualização iterativa do processo de treinamento igual ao gif do início da aula\n",
        "\n",
        "- Desafio: plotar o gráfico que permite visualizar o elbow point, variando o valor de K e indicar qual o melhor valor\n",
        "\n",
        "- Desafio: compare os resultados obtidos pelo seu algoritmo com os da função do K-Means do sklearn"
      ]
    },
    {
      "cell_type": "code",
      "metadata": {
        "id": "4wV76f5npsRY",
        "colab_type": "code",
        "outputId": "75b51f42-453d-441e-a931-3baabff22e81",
        "colab": {
          "base_uri": "https://localhost:8080/",
          "height": 593
        }
      },
      "source": [
        "import plotly.express as px\n",
        "import plotly.graph_objects as go\n",
        "\n",
        "\n",
        "clusterX1 = [];\n",
        "clusterY1 = [];\n",
        "clusterText1 = [];\n",
        "\n",
        "clusterX2 = [];\n",
        "clusterY2 = [];\n",
        "clusterText2 = [];\n",
        "\n",
        "clusterX3 = [];\n",
        "clusterY3 = [];\n",
        "clusterText3 = [];\n",
        "\n",
        "for i in range (len(cluster1)):\n",
        "  clusterText1.append(cluster1[i][0]);\n",
        "  clusterX1.append(cluster1[i][1]);\n",
        "  clusterY1.append(cluster1[i][2]);\n",
        "\n",
        "for i in range (len(cluster2)):\n",
        "  clusterText2.append(cluster2[i][0]);\n",
        "  clusterX2.append(cluster2[i][1]);\n",
        "  clusterY2.append(cluster2[i][2]);\n",
        "\n",
        "for i in range (len(cluster3)):\n",
        "  clusterText3.append(cluster3[i][0]);\n",
        "  clusterX3.append(cluster3[i][1]);\n",
        "  clusterY3.append(cluster3[i][2]);\n",
        "\n",
        "\n",
        "x = clusterX1 + clusterX2 + clusterX3\n",
        "y = clusterY1 + clusterY2 + clusterY3\n",
        "\n",
        "xCent1 = [];\n",
        "xCent1.append(cent1[0]);\n",
        "yCent1 = [];\n",
        "yCent1.append(cent1[1]);\n",
        "\n",
        "xCent2 = [];\n",
        "xCent2.append(cent2[0]);\n",
        "yCent2 = [];\n",
        "yCent2.append(cent2[1]);\n",
        "\n",
        "xCent3 = [];\n",
        "xCent3.append(cent3[0]);\n",
        "yCent3 = [];\n",
        "yCent3.append(cent3[1]);\n",
        "\n",
        "print(cent1)\n",
        "print(cent2)\n",
        "print(cent3)\n",
        "\n",
        "#print(xCent2)\n",
        "#print(yCent2)\n",
        "\n",
        "fig = go.Figure();\n",
        "fig.add_trace(go.Scatter(x=clusterX1, y=clusterY1, text=clusterText1, mode='markers', marker=dict(color='blue')));\n",
        "fig.add_trace(go.Scatter(x=clusterX2, y=clusterY2, text=clusterText2, mode='markers', marker=dict(color='red')));\n",
        "fig.add_trace(go.Scatter(x=clusterX3, y=clusterY3, text=clusterText3, mode='markers', marker=dict(color='green')));\n",
        "##\n",
        "\n",
        "fig.add_trace(go.Scatter(x=xCent1, y=yCent1, mode='markers', marker_symbol=4, marker=dict(size=12, color='blue') ));\n",
        "fig.add_trace(go.Scatter(x=xCent2, y=yCent2, mode='markers', marker_symbol=4, marker=dict(size=12, color='red') ));\n",
        "fig.add_trace(go.Scatter(x=xCent3, y=yCent3, mode='markers', marker_symbol=4, marker=dict(size=12, color='green') ));\n",
        "\n",
        "\n",
        "\n",
        "fig.show();\n"
      ],
      "execution_count": 110,
      "outputs": [
        {
          "output_type": "stream",
          "text": [
            "[60.75, 18.75]\n",
            "[38.55555555555556, 9.666666666666666]\n",
            "[27.714285714285715, 7.714285714285714]\n"
          ],
          "name": "stdout"
        },
        {
          "output_type": "display_data",
          "data": {
            "text/html": [
              "<html>\n",
              "<head><meta charset=\"utf-8\" /></head>\n",
              "<body>\n",
              "    <div>\n",
              "            <script src=\"https://cdnjs.cloudflare.com/ajax/libs/mathjax/2.7.5/MathJax.js?config=TeX-AMS-MML_SVG\"></script><script type=\"text/javascript\">if (window.MathJax) {MathJax.Hub.Config({SVG: {font: \"STIX-Web\"}});}</script>\n",
              "                <script type=\"text/javascript\">window.PlotlyConfig = {MathJaxConfig: 'local'};</script>\n",
              "        <script src=\"https://cdn.plot.ly/plotly-latest.min.js\"></script>    \n",
              "            <div id=\"ba9f27c8-8fc0-4ed2-a457-939b3a4845e8\" class=\"plotly-graph-div\" style=\"height:525px; width:100%;\"></div>\n",
              "            <script type=\"text/javascript\">\n",
              "                \n",
              "                    window.PLOTLYENV=window.PLOTLYENV || {};\n",
              "                    \n",
              "                if (document.getElementById(\"ba9f27c8-8fc0-4ed2-a457-939b3a4845e8\")) {\n",
              "                    Plotly.newPlot(\n",
              "                        'ba9f27c8-8fc0-4ed2-a457-939b3a4845e8',\n",
              "                        [{\"marker\": {\"color\": \"blue\"}, \"mode\": \"markers\", \"text\": [\"Chelsea\", \"Leicester\", \"Liverpool\", \"Man City\"], \"type\": \"scatter\", \"x\": [51, 58, 66, 68], \"y\": [14, 16, 27, 18]}, {\"marker\": {\"color\": \"red\"}, \"mode\": \"markers\", \"text\": [\"Arsenal\", \"Aston Villa\", \"Burnley\", \"Everton\", \"Man Utd\", \"Southampton\", \"Tottenham\", \"West Ham\", \"Wolves\"], \"type\": \"scatter\", \"x\": [40, 34, 34, 37, 44, 35, 47, 35, 41], \"y\": [9, 7, 11, 10, 12, 10, 11, 7, 10]}, {\"marker\": {\"color\": \"green\"}, \"mode\": \"markers\", \"text\": [\"Bournemouth\", \"Brighton\", \"Crystal Palace\", \"Newcastle United\", \"Norwich\", \"Sheffield United\", \"Watford\"], \"type\": \"scatter\", \"x\": [29, 32, 26, 25, 25, 30, 27], \"y\": [7, 6, 10, 9, 5, 11, 6]}, {\"marker\": {\"color\": \"blue\", \"size\": 12, \"symbol\": 4}, \"mode\": \"markers\", \"type\": \"scatter\", \"x\": [60.75], \"y\": [18.75]}, {\"marker\": {\"color\": \"red\", \"size\": 12, \"symbol\": 4}, \"mode\": \"markers\", \"type\": \"scatter\", \"x\": [38.55555555555556], \"y\": [9.666666666666666]}, {\"marker\": {\"color\": \"green\", \"size\": 12, \"symbol\": 4}, \"mode\": \"markers\", \"type\": \"scatter\", \"x\": [27.714285714285715], \"y\": [7.714285714285714]}],\n",
              "                        {\"template\": {\"data\": {\"bar\": [{\"error_x\": {\"color\": \"#2a3f5f\"}, \"error_y\": {\"color\": \"#2a3f5f\"}, \"marker\": {\"line\": {\"color\": \"#E5ECF6\", \"width\": 0.5}}, \"type\": \"bar\"}], \"barpolar\": [{\"marker\": {\"line\": {\"color\": \"#E5ECF6\", \"width\": 0.5}}, \"type\": \"barpolar\"}], \"carpet\": [{\"aaxis\": {\"endlinecolor\": \"#2a3f5f\", \"gridcolor\": \"white\", \"linecolor\": \"white\", \"minorgridcolor\": \"white\", \"startlinecolor\": \"#2a3f5f\"}, \"baxis\": {\"endlinecolor\": \"#2a3f5f\", \"gridcolor\": \"white\", \"linecolor\": \"white\", \"minorgridcolor\": \"white\", \"startlinecolor\": \"#2a3f5f\"}, \"type\": \"carpet\"}], \"choropleth\": [{\"colorbar\": {\"outlinewidth\": 0, \"ticks\": \"\"}, \"type\": \"choropleth\"}], \"contour\": [{\"colorbar\": {\"outlinewidth\": 0, \"ticks\": \"\"}, \"colorscale\": [[0.0, \"#0d0887\"], [0.1111111111111111, \"#46039f\"], [0.2222222222222222, \"#7201a8\"], [0.3333333333333333, \"#9c179e\"], [0.4444444444444444, \"#bd3786\"], [0.5555555555555556, \"#d8576b\"], [0.6666666666666666, \"#ed7953\"], [0.7777777777777778, \"#fb9f3a\"], [0.8888888888888888, \"#fdca26\"], [1.0, \"#f0f921\"]], \"type\": \"contour\"}], \"contourcarpet\": [{\"colorbar\": {\"outlinewidth\": 0, \"ticks\": \"\"}, \"type\": \"contourcarpet\"}], \"heatmap\": [{\"colorbar\": {\"outlinewidth\": 0, \"ticks\": \"\"}, \"colorscale\": [[0.0, \"#0d0887\"], [0.1111111111111111, \"#46039f\"], [0.2222222222222222, \"#7201a8\"], [0.3333333333333333, \"#9c179e\"], [0.4444444444444444, \"#bd3786\"], [0.5555555555555556, \"#d8576b\"], [0.6666666666666666, \"#ed7953\"], [0.7777777777777778, \"#fb9f3a\"], [0.8888888888888888, \"#fdca26\"], [1.0, \"#f0f921\"]], \"type\": \"heatmap\"}], \"heatmapgl\": [{\"colorbar\": {\"outlinewidth\": 0, \"ticks\": \"\"}, \"colorscale\": [[0.0, \"#0d0887\"], [0.1111111111111111, \"#46039f\"], [0.2222222222222222, \"#7201a8\"], [0.3333333333333333, \"#9c179e\"], [0.4444444444444444, \"#bd3786\"], [0.5555555555555556, \"#d8576b\"], [0.6666666666666666, \"#ed7953\"], [0.7777777777777778, \"#fb9f3a\"], [0.8888888888888888, \"#fdca26\"], [1.0, \"#f0f921\"]], \"type\": \"heatmapgl\"}], \"histogram\": [{\"marker\": {\"colorbar\": {\"outlinewidth\": 0, \"ticks\": \"\"}}, \"type\": \"histogram\"}], \"histogram2d\": [{\"colorbar\": {\"outlinewidth\": 0, \"ticks\": \"\"}, \"colorscale\": [[0.0, \"#0d0887\"], [0.1111111111111111, \"#46039f\"], [0.2222222222222222, \"#7201a8\"], [0.3333333333333333, \"#9c179e\"], [0.4444444444444444, \"#bd3786\"], [0.5555555555555556, \"#d8576b\"], [0.6666666666666666, \"#ed7953\"], [0.7777777777777778, \"#fb9f3a\"], [0.8888888888888888, \"#fdca26\"], [1.0, \"#f0f921\"]], \"type\": \"histogram2d\"}], \"histogram2dcontour\": [{\"colorbar\": {\"outlinewidth\": 0, \"ticks\": \"\"}, \"colorscale\": [[0.0, \"#0d0887\"], [0.1111111111111111, \"#46039f\"], [0.2222222222222222, \"#7201a8\"], [0.3333333333333333, \"#9c179e\"], [0.4444444444444444, \"#bd3786\"], [0.5555555555555556, \"#d8576b\"], [0.6666666666666666, \"#ed7953\"], [0.7777777777777778, \"#fb9f3a\"], [0.8888888888888888, \"#fdca26\"], [1.0, \"#f0f921\"]], \"type\": \"histogram2dcontour\"}], \"mesh3d\": [{\"colorbar\": {\"outlinewidth\": 0, \"ticks\": \"\"}, \"type\": \"mesh3d\"}], \"parcoords\": [{\"line\": {\"colorbar\": {\"outlinewidth\": 0, \"ticks\": \"\"}}, \"type\": \"parcoords\"}], \"pie\": [{\"automargin\": true, \"type\": \"pie\"}], \"scatter\": [{\"marker\": {\"colorbar\": {\"outlinewidth\": 0, \"ticks\": \"\"}}, \"type\": \"scatter\"}], \"scatter3d\": [{\"line\": {\"colorbar\": {\"outlinewidth\": 0, \"ticks\": \"\"}}, \"marker\": {\"colorbar\": {\"outlinewidth\": 0, \"ticks\": \"\"}}, \"type\": \"scatter3d\"}], \"scattercarpet\": [{\"marker\": {\"colorbar\": {\"outlinewidth\": 0, \"ticks\": \"\"}}, \"type\": \"scattercarpet\"}], \"scattergeo\": [{\"marker\": {\"colorbar\": {\"outlinewidth\": 0, \"ticks\": \"\"}}, \"type\": \"scattergeo\"}], \"scattergl\": [{\"marker\": {\"colorbar\": {\"outlinewidth\": 0, \"ticks\": \"\"}}, \"type\": \"scattergl\"}], \"scattermapbox\": [{\"marker\": {\"colorbar\": {\"outlinewidth\": 0, \"ticks\": \"\"}}, \"type\": \"scattermapbox\"}], \"scatterpolar\": [{\"marker\": {\"colorbar\": {\"outlinewidth\": 0, \"ticks\": \"\"}}, \"type\": \"scatterpolar\"}], \"scatterpolargl\": [{\"marker\": {\"colorbar\": {\"outlinewidth\": 0, \"ticks\": \"\"}}, \"type\": \"scatterpolargl\"}], \"scatterternary\": [{\"marker\": {\"colorbar\": {\"outlinewidth\": 0, \"ticks\": \"\"}}, \"type\": \"scatterternary\"}], \"surface\": [{\"colorbar\": {\"outlinewidth\": 0, \"ticks\": \"\"}, \"colorscale\": [[0.0, \"#0d0887\"], [0.1111111111111111, \"#46039f\"], [0.2222222222222222, \"#7201a8\"], [0.3333333333333333, \"#9c179e\"], [0.4444444444444444, \"#bd3786\"], [0.5555555555555556, \"#d8576b\"], [0.6666666666666666, \"#ed7953\"], [0.7777777777777778, \"#fb9f3a\"], [0.8888888888888888, \"#fdca26\"], [1.0, \"#f0f921\"]], \"type\": \"surface\"}], \"table\": [{\"cells\": {\"fill\": {\"color\": \"#EBF0F8\"}, \"line\": {\"color\": \"white\"}}, \"header\": {\"fill\": {\"color\": \"#C8D4E3\"}, \"line\": {\"color\": \"white\"}}, \"type\": \"table\"}]}, \"layout\": {\"annotationdefaults\": {\"arrowcolor\": \"#2a3f5f\", \"arrowhead\": 0, \"arrowwidth\": 1}, \"coloraxis\": {\"colorbar\": {\"outlinewidth\": 0, \"ticks\": \"\"}}, \"colorscale\": {\"diverging\": [[0, \"#8e0152\"], [0.1, \"#c51b7d\"], [0.2, \"#de77ae\"], [0.3, \"#f1b6da\"], [0.4, \"#fde0ef\"], [0.5, \"#f7f7f7\"], [0.6, \"#e6f5d0\"], [0.7, \"#b8e186\"], [0.8, \"#7fbc41\"], [0.9, \"#4d9221\"], [1, \"#276419\"]], \"sequential\": [[0.0, \"#0d0887\"], [0.1111111111111111, \"#46039f\"], [0.2222222222222222, \"#7201a8\"], [0.3333333333333333, \"#9c179e\"], [0.4444444444444444, \"#bd3786\"], [0.5555555555555556, \"#d8576b\"], [0.6666666666666666, \"#ed7953\"], [0.7777777777777778, \"#fb9f3a\"], [0.8888888888888888, \"#fdca26\"], [1.0, \"#f0f921\"]], \"sequentialminus\": [[0.0, \"#0d0887\"], [0.1111111111111111, \"#46039f\"], [0.2222222222222222, \"#7201a8\"], [0.3333333333333333, \"#9c179e\"], [0.4444444444444444, \"#bd3786\"], [0.5555555555555556, \"#d8576b\"], [0.6666666666666666, \"#ed7953\"], [0.7777777777777778, \"#fb9f3a\"], [0.8888888888888888, \"#fdca26\"], [1.0, \"#f0f921\"]]}, \"colorway\": [\"#636efa\", \"#EF553B\", \"#00cc96\", \"#ab63fa\", \"#FFA15A\", \"#19d3f3\", \"#FF6692\", \"#B6E880\", \"#FF97FF\", \"#FECB52\"], \"font\": {\"color\": \"#2a3f5f\"}, \"geo\": {\"bgcolor\": \"white\", \"lakecolor\": \"white\", \"landcolor\": \"#E5ECF6\", \"showlakes\": true, \"showland\": true, \"subunitcolor\": \"white\"}, \"hoverlabel\": {\"align\": \"left\"}, \"hovermode\": \"closest\", \"mapbox\": {\"style\": \"light\"}, \"paper_bgcolor\": \"white\", \"plot_bgcolor\": \"#E5ECF6\", \"polar\": {\"angularaxis\": {\"gridcolor\": \"white\", \"linecolor\": \"white\", \"ticks\": \"\"}, \"bgcolor\": \"#E5ECF6\", \"radialaxis\": {\"gridcolor\": \"white\", \"linecolor\": \"white\", \"ticks\": \"\"}}, \"scene\": {\"xaxis\": {\"backgroundcolor\": \"#E5ECF6\", \"gridcolor\": \"white\", \"gridwidth\": 2, \"linecolor\": \"white\", \"showbackground\": true, \"ticks\": \"\", \"zerolinecolor\": \"white\"}, \"yaxis\": {\"backgroundcolor\": \"#E5ECF6\", \"gridcolor\": \"white\", \"gridwidth\": 2, \"linecolor\": \"white\", \"showbackground\": true, \"ticks\": \"\", \"zerolinecolor\": \"white\"}, \"zaxis\": {\"backgroundcolor\": \"#E5ECF6\", \"gridcolor\": \"white\", \"gridwidth\": 2, \"linecolor\": \"white\", \"showbackground\": true, \"ticks\": \"\", \"zerolinecolor\": \"white\"}}, \"shapedefaults\": {\"line\": {\"color\": \"#2a3f5f\"}}, \"ternary\": {\"aaxis\": {\"gridcolor\": \"white\", \"linecolor\": \"white\", \"ticks\": \"\"}, \"baxis\": {\"gridcolor\": \"white\", \"linecolor\": \"white\", \"ticks\": \"\"}, \"bgcolor\": \"#E5ECF6\", \"caxis\": {\"gridcolor\": \"white\", \"linecolor\": \"white\", \"ticks\": \"\"}}, \"title\": {\"x\": 0.05}, \"xaxis\": {\"automargin\": true, \"gridcolor\": \"white\", \"linecolor\": \"white\", \"ticks\": \"\", \"title\": {\"standoff\": 15}, \"zerolinecolor\": \"white\", \"zerolinewidth\": 2}, \"yaxis\": {\"automargin\": true, \"gridcolor\": \"white\", \"linecolor\": \"white\", \"ticks\": \"\", \"title\": {\"standoff\": 15}, \"zerolinecolor\": \"white\", \"zerolinewidth\": 2}}}},\n",
              "                        {\"responsive\": true}\n",
              "                    ).then(function(){\n",
              "                            \n",
              "var gd = document.getElementById('ba9f27c8-8fc0-4ed2-a457-939b3a4845e8');\n",
              "var x = new MutationObserver(function (mutations, observer) {{\n",
              "        var display = window.getComputedStyle(gd).display;\n",
              "        if (!display || display === 'none') {{\n",
              "            console.log([gd, 'removed!']);\n",
              "            Plotly.purge(gd);\n",
              "            observer.disconnect();\n",
              "        }}\n",
              "}});\n",
              "\n",
              "// Listen for the removal of the full notebook cells\n",
              "var notebookContainer = gd.closest('#notebook-container');\n",
              "if (notebookContainer) {{\n",
              "    x.observe(notebookContainer, {childList: true});\n",
              "}}\n",
              "\n",
              "// Listen for the clearing of the current output cell\n",
              "var outputEl = gd.closest('.output');\n",
              "if (outputEl) {{\n",
              "    x.observe(outputEl, {childList: true});\n",
              "}}\n",
              "\n",
              "                        })\n",
              "                };\n",
              "                \n",
              "            </script>\n",
              "        </div>\n",
              "</body>\n",
              "</html>"
            ]
          },
          "metadata": {
            "tags": []
          }
        }
      ]
    },
    {
      "cell_type": "code",
      "metadata": {
        "id": "Cz6UtyS3ycZh",
        "colab_type": "code",
        "outputId": "2977fa8a-bb1d-4cb2-8a5a-69b572bd0519",
        "colab": {
          "base_uri": "https://localhost:8080/",
          "height": 272
        }
      },
      "source": [
        "#Para cada cluster, também devem ser exibidas as distâncias médias entre os pontos e seu respectivo centroide final\n",
        "\n",
        "distancia1 = 0.0\n",
        "for i in range (len(cluster1)):\n",
        "  distancia1 += distancia([cluster1[i][1], cluster1[i][2]], cent1);\n",
        "\n",
        "distancia2 = 0.0\n",
        "for i in range (len(cluster2)):\n",
        "  distancia2 += distancia([cluster2[i][1], cluster2[i][2]], cent2);\n",
        "\n",
        "distancia3 = 0.0\n",
        "for i in range (len(cluster3)):\n",
        "  distancia3 += distancia([cluster3[i][1], cluster3[i][2]], cent3);\n",
        "\n",
        "print('Distância média - Cluster1:');\n",
        "print(distancia1/len(cluster1));\n",
        "print('\\n\\n');\n",
        "\n",
        "print('Distância média - Cluster2:');\n",
        "print(distancia2/len(cluster2));\n",
        "print('\\n\\n');\n",
        "\n",
        "print('Distância média - Cluster3:');\n",
        "print(distancia3/len(cluster3));\n",
        "print('\\n\\n');\n",
        "\n"
      ],
      "execution_count": 111,
      "outputs": [
        {
          "output_type": "stream",
          "text": [
            "Distância média - Cluster1:\n",
            "7.950521688657135\n",
            "\n",
            "\n",
            "\n",
            "Distância média - Cluster2:\n",
            "4.240239797443245\n",
            "\n",
            "\n",
            "\n",
            "Distância média - Cluster3:\n",
            "3.092210697199087\n",
            "\n",
            "\n",
            "\n"
          ],
          "name": "stdout"
        }
      ]
    }
  ]
}